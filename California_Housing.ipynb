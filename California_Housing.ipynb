{
  "nbformat": 4,
  "nbformat_minor": 0,
  "metadata": {
    "colab": {
      "provenance": []
    },
    "kernelspec": {
      "name": "python3",
      "display_name": "Python 3"
    },
    "language_info": {
      "name": "python"
    }
  },
  "cells": [
    {
      "cell_type": "code",
      "execution_count": null,
      "metadata": {
        "colab": {
          "base_uri": "https://localhost:8080/"
        },
        "id": "mQDZ-QhkT53N",
        "outputId": "ab7d8609-f96a-4c25-ec5a-f03c17d4c4cf"
      },
      "outputs": [
        {
          "output_type": "stream",
          "name": "stdout",
          "text": [
            "Collecting pyspark\n",
            "  Downloading pyspark-3.5.2.tar.gz (317.3 MB)\n",
            "\u001b[2K     \u001b[90m━━━━━━━━━━━━━━━━━━━━━━━━━━━━━━━━━━━━━━━━\u001b[0m \u001b[32m317.3/317.3 MB\u001b[0m \u001b[31m4.6 MB/s\u001b[0m eta \u001b[36m0:00:00\u001b[0m\n",
            "\u001b[?25h  Preparing metadata (setup.py) ... \u001b[?25l\u001b[?25hdone\n",
            "Requirement already satisfied: py4j==0.10.9.7 in /usr/local/lib/python3.10/dist-packages (from pyspark) (0.10.9.7)\n",
            "Building wheels for collected packages: pyspark\n",
            "  Building wheel for pyspark (setup.py) ... \u001b[?25l\u001b[?25hdone\n",
            "  Created wheel for pyspark: filename=pyspark-3.5.2-py2.py3-none-any.whl size=317812365 sha256=66924a5aa411ee82ed7c5fffb8f54d3d8b58f8fd5e49247c276569e9a0783862\n",
            "  Stored in directory: /root/.cache/pip/wheels/34/34/bd/03944534c44b677cd5859f248090daa9fb27b3c8f8e5f49574\n",
            "Successfully built pyspark\n",
            "Installing collected packages: pyspark\n",
            "Successfully installed pyspark-3.5.2\n"
          ]
        }
      ],
      "source": [
        "pip install pyspark"
      ]
    },
    {
      "cell_type": "code",
      "source": [
        "from pyspark.sql import SparkSession\n",
        "from pyspark.sql.functions import col, avg, max, min"
      ],
      "metadata": {
        "id": "p96IrS6yUhko"
      },
      "execution_count": null,
      "outputs": []
    },
    {
      "cell_type": "code",
      "source": [
        "# Initialize Spark Session\n",
        "spark = SparkSession.builder.appName(\"California Housing Analysis\").getOrCreate()"
      ],
      "metadata": {
        "id": "pgcKtEIrUhnN"
      },
      "execution_count": null,
      "outputs": []
    },
    {
      "cell_type": "code",
      "source": [
        "# (Assuming that the dataset is available locally in the sample_data directory)\n",
        "df = spark.read.csv(\"/content/housing.csv\", header=True, inferSchema=True)\n",
        "\n"
      ],
      "metadata": {
        "id": "NAinh8MnUhp4"
      },
      "execution_count": null,
      "outputs": []
    },
    {
      "cell_type": "code",
      "source": [
        "df.show(5)"
      ],
      "metadata": {
        "colab": {
          "base_uri": "https://localhost:8080/"
        },
        "id": "Bt6b7B6qUhsi",
        "outputId": "3007870f-0b70-415f-9154-a6a13e33f9b1"
      },
      "execution_count": null,
      "outputs": [
        {
          "output_type": "stream",
          "name": "stdout",
          "text": [
            "+---------+--------+------------------+-----------+--------------+----------+----------+-------------+------------------+---------------+\n",
            "|longitude|latitude|housing_median_age|total_rooms|total_bedrooms|population|households|median_income|median_house_value|ocean_proximity|\n",
            "+---------+--------+------------------+-----------+--------------+----------+----------+-------------+------------------+---------------+\n",
            "|  -122.23|   37.88|              41.0|      880.0|         129.0|     322.0|     126.0|       8.3252|          452600.0|       NEAR BAY|\n",
            "|  -122.22|   37.86|              21.0|     7099.0|        1106.0|    2401.0|    1138.0|       8.3014|          358500.0|       NEAR BAY|\n",
            "|  -122.24|   37.85|              52.0|     1467.0|         190.0|     496.0|     177.0|       7.2574|          352100.0|       NEAR BAY|\n",
            "|  -122.25|   37.85|              52.0|     1274.0|         235.0|     558.0|     219.0|       5.6431|          341300.0|       NEAR BAY|\n",
            "|  -122.25|   37.85|              52.0|     1627.0|         280.0|     565.0|     259.0|       3.8462|          342200.0|       NEAR BAY|\n",
            "+---------+--------+------------------+-----------+--------------+----------+----------+-------------+------------------+---------------+\n",
            "only showing top 5 rows\n",
            "\n"
          ]
        }
      ]
    },
    {
      "cell_type": "code",
      "source": [
        "# Register DataFrame as Temp Table\n",
        "df.createOrReplaceTempView(\"california_housing\")"
      ],
      "metadata": {
        "id": "BtYyuPlAUhu5"
      },
      "execution_count": null,
      "outputs": []
    },
    {
      "cell_type": "code",
      "source": [
        "# Example Analysis 1: Calculate average house value by median income bracket\n",
        "result1_shikha = spark.sql(\"\"\"\n",
        "    SELECT median_income, AVG(median_house_value) as avg_house_value\n",
        "    FROM california_housing\n",
        "    GROUP BY median_income\n",
        "    ORDER BY median_income\"\"\")"
      ],
      "metadata": {
        "id": "JXWFCxy_Uhxs"
      },
      "execution_count": null,
      "outputs": []
    },
    {
      "cell_type": "code",
      "source": [
        "result1_shikha.show()"
      ],
      "metadata": {
        "colab": {
          "base_uri": "https://localhost:8080/"
        },
        "id": "Tjfj-PgjUhz3",
        "outputId": "7dd10234-fcc7-4063-e6ee-93b2721cb1bc"
      },
      "execution_count": null,
      "outputs": [
        {
          "output_type": "stream",
          "name": "stdout",
          "text": [
            "+-------------+---------------+\n",
            "|median_income|avg_house_value|\n",
            "+-------------+---------------+\n",
            "|       0.4999|       163608.5|\n",
            "|        0.536|       166999.9|\n",
            "|       0.5495|        91700.0|\n",
            "|       0.6433|       111300.0|\n",
            "|       0.6775|       350000.0|\n",
            "|       0.6825|       187500.0|\n",
            "|       0.6831|        87500.0|\n",
            "|        0.696|        42500.0|\n",
            "|       0.6991|        89500.0|\n",
            "|       0.7007|       134400.0|\n",
            "|       0.7025|       500001.0|\n",
            "|       0.7054|       137500.0|\n",
            "|       0.7068|       200000.0|\n",
            "|       0.7069|        70300.0|\n",
            "|       0.7075|        78800.0|\n",
            "|        0.716|       104200.0|\n",
            "|       0.7235|        71300.0|\n",
            "|       0.7286|        95200.0|\n",
            "|       0.7403|        68600.0|\n",
            "|       0.7445|       112500.0|\n",
            "+-------------+---------------+\n",
            "only showing top 20 rows\n",
            "\n"
          ]
        }
      ]
    },
    {
      "cell_type": "code",
      "source": [
        "# Example Analysis 2: Find the maximum and minimum house values in each housing block\n",
        "result2_shikha = spark.sql(\"\"\"\n",
        "    SELECT longitude, latitude, MAX(median_house_value) as max_house_value,\n",
        "           MIN(median_house_value) as min_house_value\n",
        "    FROM california_housing\n",
        "    GROUP BY longitude, latitude\n",
        "    ORDER BY max_house_value DESC\n",
        "    LIMIT 10\"\"\")"
      ],
      "metadata": {
        "id": "uGD8jQNlUh2K"
      },
      "execution_count": null,
      "outputs": []
    },
    {
      "cell_type": "code",
      "source": [
        "result2_shikha.show()"
      ],
      "metadata": {
        "colab": {
          "base_uri": "https://localhost:8080/"
        },
        "id": "CKm09VmIUh5C",
        "outputId": "c466deb3-6e99-456b-ee15-9d75bf885f65"
      },
      "execution_count": null,
      "outputs": [
        {
          "output_type": "stream",
          "name": "stdout",
          "text": [
            "+---------+--------+---------------+---------------+\n",
            "|longitude|latitude|max_house_value|min_house_value|\n",
            "+---------+--------+---------------+---------------+\n",
            "|  -118.43|   34.02|       500001.0|       500001.0|\n",
            "|  -118.57|   34.27|       500001.0|       500001.0|\n",
            "|  -118.12|   33.76|       500001.0|       461500.0|\n",
            "|  -121.74|   37.35|       500001.0|       500001.0|\n",
            "|  -122.06|    37.3|       500001.0|       500001.0|\n",
            "|  -118.07|   33.72|       500001.0|       485000.0|\n",
            "|  -122.03|   37.83|       500001.0|       500001.0|\n",
            "|  -121.91|   37.81|       500001.0|       500001.0|\n",
            "|  -119.23|   34.19|       500001.0|       500001.0|\n",
            "|  -118.35|   34.15|       500001.0|       500001.0|\n",
            "+---------+--------+---------------+---------------+\n",
            "\n"
          ]
        }
      ]
    },
    {
      "cell_type": "code",
      "source": [
        "# Example Analysis 3: Determine the average house value for houses older than 50 years\n",
        "result3_shikha = spark.sql(\"\"\"\n",
        "    SELECT AVG(median_house_value) as avg_old_house_value\n",
        "    FROM california_housing\n",
        "    WHERE housing_median_age > 50\"\"\")"
      ],
      "metadata": {
        "id": "3SYBXDBRUh7d"
      },
      "execution_count": null,
      "outputs": []
    },
    {
      "cell_type": "code",
      "source": [
        "result3_shikha.show()"
      ],
      "metadata": {
        "colab": {
          "base_uri": "https://localhost:8080/"
        },
        "id": "PtiUc-w-Uh98",
        "outputId": "b3e1a020-1348-4b63-82bc-31f85a58e222"
      },
      "execution_count": null,
      "outputs": [
        {
          "output_type": "stream",
          "name": "stdout",
          "text": [
            "+-------------------+\n",
            "|avg_old_house_value|\n",
            "+-------------------+\n",
            "|  273687.5647236942|\n",
            "+-------------------+\n",
            "\n"
          ]
        }
      ]
    },
    {
      "cell_type": "code",
      "source": [
        "spark.stop()"
      ],
      "metadata": {
        "id": "-uQ0EbduUiAj"
      },
      "execution_count": null,
      "outputs": []
    },
    {
      "cell_type": "code",
      "source": [
        "spark = SparkSession.builder.appName(\"California Housing Analysis Advance\").getOrCreate()"
      ],
      "metadata": {
        "id": "BU5Gi4tfUiCw"
      },
      "execution_count": null,
      "outputs": []
    },
    {
      "cell_type": "code",
      "source": [
        "df = spark.read.csv(\"/content/housing.csv\", header=True, inferSchema=True)\n",
        "\n"
      ],
      "metadata": {
        "id": "C_0uV1owUiFp"
      },
      "execution_count": null,
      "outputs": []
    },
    {
      "cell_type": "code",
      "source": [
        "df.createOrReplaceTempView(\"california_housing\")"
      ],
      "metadata": {
        "id": "ATfXgfe6UiIh"
      },
      "execution_count": null,
      "outputs": []
    },
    {
      "cell_type": "code",
      "source": [
        "# 1. Average House Value by Proximity to Ocean (Based on Longitude)\n",
        "result1_shikha = spark.sql(\"\"\"\n",
        "    SELECT CASE\n",
        "               WHEN longitude < -122 THEN 'Near Ocean'\n",
        "               ELSE 'Far from Ocean'\n",
        "           END as proximity_to_ocean,\n",
        "           AVG(median_house_value) as avg_house_value\n",
        "    FROM california_housing\n",
        "    GROUP BY proximity_to_ocean\"\"\")"
      ],
      "metadata": {
        "id": "bC31OEUUUiKy"
      },
      "execution_count": null,
      "outputs": []
    },
    {
      "cell_type": "code",
      "source": [
        "result1_shikha.show()"
      ],
      "metadata": {
        "colab": {
          "base_uri": "https://localhost:8080/"
        },
        "id": "rht3oye_UiNg",
        "outputId": "fb314870-95f4-4601-c7a7-e2ad32f50303"
      },
      "execution_count": null,
      "outputs": [
        {
          "output_type": "stream",
          "name": "stdout",
          "text": [
            "+------------------+------------------+\n",
            "|proximity_to_ocean|   avg_house_value|\n",
            "+------------------+------------------+\n",
            "|        Near Ocean| 244230.8817746408|\n",
            "|    Far from Ocean|197963.18317039526|\n",
            "+------------------+------------------+\n",
            "\n"
          ]
        }
      ]
    },
    {
      "cell_type": "code",
      "source": [
        "# 2. Average Number of Rooms by Age of Housing\n",
        "result2_shikha = spark.sql(\"\"\"\n",
        "    SELECT housing_median_age,\n",
        "           AVG(total_rooms) as avg_rooms\n",
        "    FROM california_housing\n",
        "    GROUP BY housing_median_age\n",
        "    ORDER BY housing_median_age\"\"\")"
      ],
      "metadata": {
        "id": "-Hy7QanwUiPx"
      },
      "execution_count": null,
      "outputs": []
    },
    {
      "cell_type": "code",
      "source": [
        "result2_shikha.show()"
      ],
      "metadata": {
        "colab": {
          "base_uri": "https://localhost:8080/",
          "height": 141
        },
        "id": "iwaJ23koUiSL",
        "outputId": "d4250b24-5b89-4ebe-ca26-fcb66231aa37"
      },
      "execution_count": null,
      "outputs": [
        {
          "output_type": "error",
          "ename": "NameError",
          "evalue": "name 'result2_shikha' is not defined",
          "traceback": [
            "\u001b[0;31m---------------------------------------------------------------------------\u001b[0m",
            "\u001b[0;31mNameError\u001b[0m                                 Traceback (most recent call last)",
            "\u001b[0;32m<ipython-input-1-9d43af6eb610>\u001b[0m in \u001b[0;36m<cell line: 1>\u001b[0;34m()\u001b[0m\n\u001b[0;32m----> 1\u001b[0;31m \u001b[0mresult2_shikha\u001b[0m\u001b[0;34m.\u001b[0m\u001b[0mshow\u001b[0m\u001b[0;34m(\u001b[0m\u001b[0;34m)\u001b[0m\u001b[0;34m\u001b[0m\u001b[0;34m\u001b[0m\u001b[0m\n\u001b[0m",
            "\u001b[0;31mNameError\u001b[0m: name 'result2_shikha' is not defined"
          ]
        }
      ]
    },
    {
      "cell_type": "code",
      "source": [
        "# 3. Top 10 Locations with the Highest Median Income\n",
        "result3_shikha = spark.sql(\"\"\"\n",
        "    SELECT longitude, latitude, median_income\n",
        "    FROM california_housing\n",
        "    ORDER BY median_income DESC\n",
        "    LIMIT 10\"\"\")"
      ],
      "metadata": {
        "id": "pzP1AXGrUiWh"
      },
      "execution_count": null,
      "outputs": []
    },
    {
      "cell_type": "code",
      "source": [
        "result3_shikha.show()"
      ],
      "metadata": {
        "colab": {
          "base_uri": "https://localhost:8080/"
        },
        "id": "yByOadxlUiY5",
        "outputId": "b039e388-aca6-48f4-c81d-f4562cf7cc06"
      },
      "execution_count": null,
      "outputs": [
        {
          "output_type": "stream",
          "name": "stdout",
          "text": [
            "+---------+--------+-------------+\n",
            "|longitude|latitude|median_income|\n",
            "+---------+--------+-------------+\n",
            "|  -118.32|   34.06|      15.0001|\n",
            "|  -118.34|   34.08|      15.0001|\n",
            "|  -118.49|   34.06|      15.0001|\n",
            "|   -118.4|   34.11|      15.0001|\n",
            "|  -118.33|   34.07|      15.0001|\n",
            "|  -118.44|   34.09|      15.0001|\n",
            "|  -118.33|   34.06|      15.0001|\n",
            "|  -118.43|   34.08|      15.0001|\n",
            "|  -121.96|   37.74|      15.0001|\n",
            "|  -118.33|   34.07|      15.0001|\n",
            "+---------+--------+-------------+\n",
            "\n"
          ]
        }
      ]
    },
    {
      "cell_type": "code",
      "source": [
        "# 4. Relationship Between Population and House Value (Correlation Analysis)\n",
        "result4_shikha = spark.sql(\"\"\"\n",
        "    SELECT POPULATION, median_house_value\n",
        "    FROM california_housing\"\"\")\n",
        "result4_shikha.corr(\"population\", \"median_house_value\")"
      ],
      "metadata": {
        "colab": {
          "base_uri": "https://localhost:8080/"
        },
        "id": "PG022rdyUibf",
        "outputId": "b2cb65ee-fd34-4df8-ad8e-9efef167e3f4"
      },
      "execution_count": null,
      "outputs": [
        {
          "output_type": "execute_result",
          "data": {
            "text/plain": [
              "-0.024649678888894865"
            ]
          },
          "metadata": {},
          "execution_count": 24
        }
      ]
    },
    {
      "cell_type": "code",
      "source": [
        "# 5. Average House Value by Income Level (Low, Medium, High)\n",
        "result5_shikha = spark.sql(\"\"\"\n",
        "    SELECT CASE\n",
        "               WHEN median_income < 2.5 THEN 'Low Income'\n",
        "               WHEN median_income BETWEEN 2.5 AND 4.5 THEN 'Medium Income'\n",
        "               ELSE 'High Income'\n",
        "           END as income_level,\n",
        "           AVG(median_house_value) as avg_house_value\n",
        "    FROM california_housing\n",
        "    GROUP BY income_level\"\"\")"
      ],
      "metadata": {
        "id": "n5fDikpxUif8"
      },
      "execution_count": null,
      "outputs": []
    },
    {
      "cell_type": "code",
      "source": [
        "result5_shikha.show()"
      ],
      "metadata": {
        "colab": {
          "base_uri": "https://localhost:8080/"
        },
        "id": "B5AIJ_9WUikw",
        "outputId": "449f4bff-4256-4447-92b4-b2271b864b8c"
      },
      "execution_count": null,
      "outputs": [
        {
          "output_type": "stream",
          "name": "stdout",
          "text": [
            "+-------------+------------------+\n",
            "| income_level|   avg_house_value|\n",
            "+-------------+------------------+\n",
            "|  High Income| 305672.1538076987|\n",
            "|   Low Income|121350.76826460121|\n",
            "|Medium Income|188143.66720746298|\n",
            "+-------------+------------------+\n",
            "\n"
          ]
        }
      ]
    },
    {
      "cell_type": "code",
      "source": [
        "# 6. Number of Houses in Different Age Groups\n",
        "result6_shikha = spark.sql(\"\"\"\n",
        "    SELECT CASE\n",
        "               WHEN housing_median_age < 20 THEN 'New'\n",
        "               WHEN housing_median_age BETWEEN 20 AND 40 THEN 'Middle-aged'\n",
        "               ELSE 'Old'\n",
        "           END as age_group,\n",
        "           COUNT(*) as house_count\n",
        "    FROM california_housing\n",
        "    GROUP BY age_group\n",
        "    ORDER BY house_count DESC\"\"\")"
      ],
      "metadata": {
        "id": "uFyIlFziUim7"
      },
      "execution_count": null,
      "outputs": []
    },
    {
      "cell_type": "code",
      "source": [
        "result6_shikha.show()"
      ],
      "metadata": {
        "colab": {
          "base_uri": "https://localhost:8080/"
        },
        "id": "SM6mk2eQVqyv",
        "outputId": "05b38b24-abdf-405d-fcf8-86405f31330b"
      },
      "execution_count": null,
      "outputs": [
        {
          "output_type": "stream",
          "name": "stdout",
          "text": [
            "+-----------+-----------+\n",
            "|  age_group|house_count|\n",
            "+-----------+-----------+\n",
            "|Middle-aged|      10934|\n",
            "|        New|       5828|\n",
            "|        Old|       3878|\n",
            "+-----------+-----------+\n",
            "\n"
          ]
        }
      ]
    },
    {
      "cell_type": "code",
      "source": [
        "# 7. Average Number of Bedrooms Per House\n",
        "result7_shikha = spark.sql(\"\"\"\n",
        "    SELECT AVG(total_bedrooms / households) as avg_bedrooms_per_house\n",
        "    FROM california_housing\"\"\")"
      ],
      "metadata": {
        "id": "H1x1LUeGVq1Q"
      },
      "execution_count": null,
      "outputs": []
    },
    {
      "cell_type": "code",
      "source": [
        "result7_shikha.show()"
      ],
      "metadata": {
        "colab": {
          "base_uri": "https://localhost:8080/"
        },
        "id": "o72jSbBVVq3o",
        "outputId": "f8325407-b1f5-48d4-814c-de62dbffee69"
      },
      "execution_count": null,
      "outputs": [
        {
          "output_type": "stream",
          "name": "stdout",
          "text": [
            "+----------------------+\n",
            "|avg_bedrooms_per_house|\n",
            "+----------------------+\n",
            "|    1.0970623858069932|\n",
            "+----------------------+\n",
            "\n"
          ]
        }
      ]
    },
    {
      "cell_type": "code",
      "source": [
        "# 8. Median House Value by Latitude and Longitude\n",
        "result8_shikha = spark.sql(\"\"\"\n",
        "    SELECT latitude, longitude,\n",
        "           PERCENTILE_APPROX(median_house_value, 0.5) as median_value\n",
        "    FROM california_housing\n",
        "    GROUP BY latitude, longitude\n",
        "    ORDER BY median_value DESC\n",
        "    LIMIT 10\"\"\")"
      ],
      "metadata": {
        "id": "AS4MNDftVq52"
      },
      "execution_count": null,
      "outputs": []
    },
    {
      "cell_type": "code",
      "source": [
        "result8_shikha.show()"
      ],
      "metadata": {
        "colab": {
          "base_uri": "https://localhost:8080/"
        },
        "id": "dpYBj5RNVq8b",
        "outputId": "74dec767-dbd8-4ef9-e1e4-c41d663bb30a"
      },
      "execution_count": null,
      "outputs": [
        {
          "output_type": "stream",
          "name": "stdout",
          "text": [
            "+--------+---------+------------+\n",
            "|latitude|longitude|median_value|\n",
            "+--------+---------+------------+\n",
            "|   32.83|  -117.31|    500001.0|\n",
            "|   32.71|  -117.24|    500001.0|\n",
            "|   32.86|  -117.25|    500001.0|\n",
            "|   32.83|  -117.26|    500001.0|\n",
            "|   32.85|  -117.26|    500001.0|\n",
            "|   32.83|  -117.25|    500001.0|\n",
            "|   32.81|  -117.29|    500001.0|\n",
            "|   32.84|  -117.25|    500001.0|\n",
            "|   32.82|  -117.26|    500001.0|\n",
            "|   32.85|   -117.3|    500001.0|\n",
            "+--------+---------+------------+\n",
            "\n"
          ]
        }
      ]
    },
    {
      "cell_type": "code",
      "source": [
        "# 9. Households with More Than 4 Persons Per Household\n",
        "result9_shikha = spark.sql(\"\"\"\n",
        "    SELECT COUNT(*) as large_households\n",
        "    FROM california_housing\n",
        "    WHERE population / households > 4\"\"\")"
      ],
      "metadata": {
        "id": "_XMPzS6oVrAA"
      },
      "execution_count": null,
      "outputs": []
    },
    {
      "cell_type": "code",
      "source": [
        "result9_shikha.show()\n"
      ],
      "metadata": {
        "colab": {
          "base_uri": "https://localhost:8080/"
        },
        "id": "iSHNQAk3V8MH",
        "outputId": "c4bff44a-0423-4e52-e6fb-d23d55f833bd"
      },
      "execution_count": null,
      "outputs": [
        {
          "output_type": "stream",
          "name": "stdout",
          "text": [
            "+----------------+\n",
            "|large_households|\n",
            "+----------------+\n",
            "|            1741|\n",
            "+----------------+\n",
            "\n"
          ]
        }
      ]
    },
    {
      "cell_type": "code",
      "source": [
        "# 10. Areas with the Highest House Density (Rooms per Area)\n",
        "result10_shikha = spark.sql(\"\"\"\n",
        "    SELECT latitude, longitude, (total_rooms / housing_median_age) as rooms_density\n",
        "    FROM california_housing\n",
        "    ORDER BY rooms_density DESC\n",
        "    LIMIT 10\"\"\")"
      ],
      "metadata": {
        "id": "xB0s9gmcV-j7"
      },
      "execution_count": null,
      "outputs": []
    },
    {
      "cell_type": "code",
      "source": [
        "result10_shikha.show()"
      ],
      "metadata": {
        "colab": {
          "base_uri": "https://localhost:8080/"
        },
        "id": "EH-3Fr9vV-nX",
        "outputId": "0eba0f28-8a37-4c8e-a6d7-d056f40b7363"
      },
      "execution_count": null,
      "outputs": [
        {
          "output_type": "stream",
          "name": "stdout",
          "text": [
            "+--------+---------+------------------+\n",
            "|latitude|longitude|     rooms_density|\n",
            "+--------+---------+------------------+\n",
            "|   33.58|   -117.2|           15225.0|\n",
            "|   38.43|  -121.44|13106.666666666666|\n",
            "|   38.72|  -121.35|           10948.5|\n",
            "|   33.57|  -117.16|           10195.5|\n",
            "|   33.89|  -117.74|           9484.25|\n",
            "|   33.89|  -117.52|            8989.0|\n",
            "|   33.87|  -117.64|            8735.0|\n",
            "|   33.52|  -117.12|           7600.25|\n",
            "|    33.9|  -117.19|            7020.0|\n",
            "|   38.77|  -121.33|            6738.0|\n",
            "+--------+---------+------------------+\n",
            "\n"
          ]
        }
      ]
    },
    {
      "cell_type": "code",
      "source": [
        "spark.stop()"
      ],
      "metadata": {
        "id": "3lM3lM9bWDx8"
      },
      "execution_count": null,
      "outputs": []
    }
  ]
}